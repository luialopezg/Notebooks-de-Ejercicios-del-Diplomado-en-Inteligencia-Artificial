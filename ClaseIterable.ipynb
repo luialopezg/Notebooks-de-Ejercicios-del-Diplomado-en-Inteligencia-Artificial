{
 "cells": [
  {
   "cell_type": "markdown",
   "id": "0785f432-420d-4d48-8039-02348ed53ebb",
   "metadata": {},
   "source": [
    "# Clases Iterables\n",
    "\n",
    "Un archivo es un ejemplo perfecto de un objeto que se puede recorrer secuencialmente, y por lo tanto, es un objeto iterable.\n",
    "\n",
    "Imagina que tienes un archivo de texto con varios millones de líneas, y quieres encontrar todas las líneas que contienen una palabra específica. Sin usar la iteración, tendrías que leer todo el archivo y buscar la palabra línea por línea. Esto puede ser muy ineficiente, especialmente si el archivo es muy grande.\n",
    "\n",
    "En su lugar, puedes hacer que el archivo sea iterable. Para hacer esto, debes definir una clase que tenga un método __iter__() que abra el archivo y devuelva un objeto iterador. Cada vez que se llama al método __next__() del iterador, se lee la siguiente línea del archivo.\n",
    "\n",
    "A continuación, te muestro un ejemplo de cómo se puede hacer un archivo iterable en Python:"
   ]
  },
  {
   "cell_type": "code",
   "execution_count": 6,
   "id": "990c8491-78b0-4890-a7fa-fb65eb412ca7",
   "metadata": {},
   "outputs": [],
   "source": [
    "# Ejemplo de clase iterable para leer una palabra a la vez de un archivo de texto\n",
    "\n",
    "\n",
    "class FileIterable:\n",
    "    \n",
    "    def __init__(self,filename):\n",
    "        self.file = open(filename)\n",
    "        \n",
    "    # devuelve el objeto iterador, en este caso la instancia de FileIterable actual\n",
    "    def __iter__(self):\n",
    "        return self\n",
    "    \n",
    "         \n",
    "    # El método __next__() se utiliza para iterar sobre los elementos de la lista. Cada vez que se llama al método __next__(), \n",
    "    # se devuelve el siguiente elemento de la lista. Si se ha llegado al final de la lista, se genera una excepción StopIteration para indicar \n",
    "    # que la iteración ha finalizado.\n",
    "    def __next__(self):\n",
    "        line = self.file.readline()\n",
    "        if line:\n",
    "            return line.strip()\n",
    "        else:\n",
    "            raise StopIteration\n",
    "        \n",
    "        \n",
    "      "
   ]
  },
  {
   "cell_type": "code",
   "execution_count": 7,
   "id": "5a6201ec-cb17-4175-8fd8-e5211e4d7685",
   "metadata": {},
   "outputs": [
    {
     "name": "stdout",
     "output_type": "stream",
     "text": [
      "este es corrido del caballo blanca\n",
      "Como el caballo era rebelde intento no ser encontrado\n",
      "Para lo cual se escondió junto a otro caballo quien\n",
      "a su vez tambien era un caballo perseguido\n",
      "Luegos buncando otro caballo\n",
      "Encontraron muchos y muchos caballos\n",
      "po lo que nunca encontraron a caballo\n"
     ]
    }
   ],
   "source": [
    "file_iterable = FileIterable(\"mi_archivo.txt\")\n",
    "for line in file_iterable:\n",
    "    if 'caballo' in line:\n",
    "        print(line)"
   ]
  },
  {
   "cell_type": "code",
   "execution_count": null,
   "id": "b608ab5d-b3d0-435d-9049-39477cd87c4f",
   "metadata": {},
   "outputs": [],
   "source": []
  },
  {
   "cell_type": "code",
   "execution_count": 8,
   "id": "fa9a64fb-7b71-4ec1-996f-a0dfdc6ef9b6",
   "metadata": {},
   "outputs": [],
   "source": [
    "import pandas as pd\n",
    "import numpy as np\n",
    "\n",
    "class DataFrameIterator:\n",
    "    def __init__(self, num_rows):\n",
    "        self.num_rows = num_rows\n",
    "        self.batch_size = 5\n",
    "        self.current_index = 0\n",
    "        self.df = pd.DataFrame({\n",
    "            'Edad': np.random.randint(18, 65, num_rows),\n",
    "            'Ingresos': np.random.randint(5000, 100000, num_rows),\n",
    "            'Gastos': np.random.randint(1000, 5000, num_rows)\n",
    "        })\n",
    "\n",
    "    def __iter__(self):\n",
    "        return self\n",
    "\n",
    "    def __next__(self):\n",
    "        if self.current_index >= self.num_rows:\n",
    "            raise StopIteration\n",
    "        batch = self.df.iloc[self.current_index:self.current_index + self.batch_size]\n",
    "        self.current_index += self.batch_size\n",
    "        return batch.describe()"
   ]
  },
  {
   "cell_type": "code",
   "execution_count": 9,
   "id": "d085e1ac-55c0-4315-854d-f80eaf152dde",
   "metadata": {},
   "outputs": [
    {
     "name": "stdout",
     "output_type": "stream",
     "text": [
      "            Edad     Ingresos       Gastos\n",
      "count   5.000000      5.00000     5.000000\n",
      "mean   39.800000  70531.40000  2786.800000\n",
      "std     7.155418  23744.61508  1356.414833\n",
      "min    28.000000  40825.00000  1285.000000\n",
      "25%    40.000000  51265.00000  1957.000000\n",
      "50%    40.000000  75364.00000  2272.000000\n",
      "75%    45.000000  91182.00000  3987.000000\n",
      "max    46.000000  94021.00000  4433.000000\n",
      "            Edad      Ingresos       Gastos\n",
      "count   5.000000      5.000000     5.000000\n",
      "mean   37.200000  37824.600000  3869.200000\n",
      "std    16.783921  16766.412893   771.739723\n",
      "min    18.000000  18128.000000  2761.000000\n",
      "25%    27.000000  24801.000000  3387.000000\n",
      "50%    34.000000  37114.000000  4173.000000\n",
      "75%    46.000000  52595.000000  4483.000000\n",
      "max    61.000000  56485.000000  4542.000000\n",
      "            Edad     Ingresos       Gastos\n",
      "count   5.000000      5.00000     5.000000\n",
      "mean   40.400000  47291.80000  3042.400000\n",
      "std    12.280065  33998.71092  1361.427119\n",
      "min    21.000000   9806.00000  1184.000000\n",
      "25%    37.000000  31071.00000  2259.000000\n",
      "50%    43.000000  36324.00000  3133.000000\n",
      "75%    49.000000  60346.00000  4113.000000\n",
      "max    52.000000  98912.00000  4523.000000\n",
      "            Edad     Ingresos       Gastos\n",
      "count   5.000000      5.00000     5.000000\n",
      "mean   43.200000  77181.40000  2403.200000\n",
      "std     8.467585  12509.46359   543.709205\n",
      "min    35.000000  62020.00000  1494.000000\n",
      "25%    36.000000  67199.00000  2478.000000\n",
      "50%    41.000000  78018.00000  2513.000000\n",
      "75%    50.000000  88941.00000  2571.000000\n",
      "max    54.000000  89729.00000  2960.000000\n"
     ]
    }
   ],
   "source": [
    "df_iter = DataFrameIterator(20)\n",
    "\n",
    "for batch_stats in df_iter:\n",
    "    print(batch_stats)\n"
   ]
  },
  {
   "cell_type": "code",
   "execution_count": null,
   "id": "eac1069b-38aa-4149-9cd8-a372af013fa1",
   "metadata": {},
   "outputs": [],
   "source": []
  },
  {
   "cell_type": "code",
   "execution_count": 10,
   "id": "2dea05a7-02fe-4444-8217-c43fda309df4",
   "metadata": {},
   "outputs": [
    {
     "name": "stdout",
     "output_type": "stream",
     "text": [
      "            Edad      Ingresos       Gastos\n",
      "count  10.000000     10.000000    10.000000\n",
      "mean   37.200000  71109.900000  3278.600000\n",
      "std    14.397531  23309.054356  1415.005709\n",
      "min    20.000000  28202.000000  1044.000000\n",
      "25%    25.750000  55702.750000  2454.250000\n",
      "50%    34.000000  77411.000000  3579.000000\n",
      "75%    50.500000  87703.750000  4103.750000\n",
      "max    59.000000  97597.000000  4927.000000\n",
      "            Edad      Ingresos      Gastos\n",
      "count  10.000000     10.000000    10.00000\n",
      "mean   39.900000  43418.300000  2974.30000\n",
      "std    12.169634  33099.955002  1370.58374\n",
      "min    22.000000   8618.000000  1009.00000\n",
      "25%    31.250000  18315.750000  1860.00000\n",
      "50%    40.000000  32035.000000  2999.00000\n",
      "75%    45.750000  75696.250000  4178.75000\n",
      "max    60.000000  90447.000000  4664.00000\n"
     ]
    }
   ],
   "source": [
    "import pandas as pd\n",
    "import numpy as np\n",
    "\n",
    "class DataFrameIterator:\n",
    "    def __init__(self, num_rows, batch_size=5):\n",
    "        self.num_rows = num_rows\n",
    "        self.batch_size = batch_size\n",
    "        self.current_index = 0\n",
    "        self.df = pd.DataFrame({\n",
    "            'Edad': np.random.randint(18, 65, num_rows),\n",
    "            'Ingresos': np.random.randint(5000, 100000, num_rows),\n",
    "            'Gastos': np.random.randint(1000, 5000, num_rows)\n",
    "        })\n",
    "\n",
    "    def __iter__(self):\n",
    "        return self\n",
    "\n",
    "    def __next__(self):\n",
    "        if self.current_index >= self.num_rows:\n",
    "            raise StopIteration\n",
    "        batch = self.df.iloc[self.current_index:self.current_index + self.batch_size]\n",
    "        self.current_index += self.batch_size\n",
    "        return batch.describe()\n",
    "\n",
    "df_iter = DataFrameIterator(20, batch_size=10)\n",
    "\n",
    "for batch_stats in df_iter:\n",
    "    print(batch_stats)\n"
   ]
  },
  {
   "cell_type": "code",
   "execution_count": null,
   "id": "fda9118c-1ba7-4d51-a152-3cb8be223509",
   "metadata": {},
   "outputs": [],
   "source": []
  }
 ],
 "metadata": {
  "kernelspec": {
   "display_name": "Python 3 (ipykernel)",
   "language": "python",
   "name": "python3"
  },
  "language_info": {
   "codemirror_mode": {
    "name": "ipython",
    "version": 3
   },
   "file_extension": ".py",
   "mimetype": "text/x-python",
   "name": "python",
   "nbconvert_exporter": "python",
   "pygments_lexer": "ipython3",
   "version": "3.11.3"
  }
 },
 "nbformat": 4,
 "nbformat_minor": 5
}
