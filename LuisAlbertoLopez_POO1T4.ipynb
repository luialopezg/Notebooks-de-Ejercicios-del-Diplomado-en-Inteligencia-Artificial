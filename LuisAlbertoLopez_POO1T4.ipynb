{
 "cells": [
  {
   "cell_type": "markdown",
   "id": "9282ad3c-684a-4525-97a4-91b6372404f5",
   "metadata": {},
   "source": [
    "<figure>\n",
    "<img src=\"ulogo_unal.jpg\"  width=\"80\" height=\"80\" align=\"left\"/> \n",
    "</figure>\n",
    "\n",
    "# <span style=\"color:blue\"><left>DiplomadoInteligencia Artificial y  Aprendizaje Profundo</left></span>"
   ]
  },
  {
   "cell_type": "markdown",
   "id": "360561fc-97b8-4864-8fac-f68a8b48bb1e",
   "metadata": {},
   "source": [
    "# <span style=\"color:red\"><center>Tarea 4. Empezando con la Programación orientada a objetos 1</center></span>"
   ]
  },
  {
   "cell_type": "markdown",
   "id": "01e313d1-ce97-4cba-8494-acd74a35b43a",
   "metadata": {},
   "source": [
    "<figure>\n",
    "<center>\n",
    "<img src=\"armar.jpg\" width=\"600\" height=\"600\" align=\"center\"/>\n",
    "</center>\n",
    "<figcaption>\n",
    "<p style=\"text-align:center\">Armando Objetos</p>\n",
    "</figcaption>\n",
    "</figure>\n",
    "\n",
    "Fuente: [tanatpon chaweewat](https://www.istockphoto.com/es/foto/podio-de-pantalla-3d-para-presentaci%C3%B3n-de-productos-y-cosm%C3%A9ticos-con-el-concepto-de-gm1477660122-506148565)"
   ]
  },
  {
   "cell_type": "markdown",
   "id": "c3d009f8-f22c-4e70-85fd-66556dab6584",
   "metadata": {},
   "source": [
    "3. Escriba una clase con las siguientes funcionalidades:\n",
    "3.1 Al instanciar un objeto, lee un conjunto de datos numéricos. Por ejemplo puede usar el mismo conjunto de datos iris.csv. Instancie los datos en un dataframe de Pandas\n",
    "3.2 Implemente un método que calcule las estadísticas descriptivas básicas de cada una de las variables.\n",
    "3.3 Implemente un método que entregue los nombre de las variables disponibles.\n",
    "3.3 Implemente un método que reciba el nombre de una variable disponible dentro del objeto ( en el  dataframe) y regrese: sus estadísticas básicas:  media, mediana, desviación, percentiles q25, q50, q75 y dibuje un histograma de la distribución de la variable."
   ]
  },
  {
   "cell_type": "code",
   "execution_count": 9,
   "id": "b4dfe137-cb5d-465a-bf71-6033b25d6397",
   "metadata": {},
   "outputs": [
    {
     "data": {
      "text/html": [
       "<div>\n",
       "<style scoped>\n",
       "    .dataframe tbody tr th:only-of-type {\n",
       "        vertical-align: middle;\n",
       "    }\n",
       "\n",
       "    .dataframe tbody tr th {\n",
       "        vertical-align: top;\n",
       "    }\n",
       "\n",
       "    .dataframe thead th {\n",
       "        text-align: right;\n",
       "    }\n",
       "</style>\n",
       "<table border=\"1\" class=\"dataframe\">\n",
       "  <thead>\n",
       "    <tr style=\"text-align: right;\">\n",
       "      <th></th>\n",
       "      <th>sepal.length</th>\n",
       "      <th>sepal.width</th>\n",
       "      <th>petal.length</th>\n",
       "      <th>petal.width</th>\n",
       "      <th>variety</th>\n",
       "    </tr>\n",
       "  </thead>\n",
       "  <tbody>\n",
       "    <tr>\n",
       "      <th>0</th>\n",
       "      <td>5.1</td>\n",
       "      <td>3.5</td>\n",
       "      <td>1.4</td>\n",
       "      <td>0.2</td>\n",
       "      <td>Setosa</td>\n",
       "    </tr>\n",
       "    <tr>\n",
       "      <th>1</th>\n",
       "      <td>4.9</td>\n",
       "      <td>3.0</td>\n",
       "      <td>1.4</td>\n",
       "      <td>0.2</td>\n",
       "      <td>Setosa</td>\n",
       "    </tr>\n",
       "    <tr>\n",
       "      <th>2</th>\n",
       "      <td>4.7</td>\n",
       "      <td>3.2</td>\n",
       "      <td>1.3</td>\n",
       "      <td>0.2</td>\n",
       "      <td>Setosa</td>\n",
       "    </tr>\n",
       "    <tr>\n",
       "      <th>3</th>\n",
       "      <td>4.6</td>\n",
       "      <td>3.1</td>\n",
       "      <td>1.5</td>\n",
       "      <td>0.2</td>\n",
       "      <td>Setosa</td>\n",
       "    </tr>\n",
       "    <tr>\n",
       "      <th>4</th>\n",
       "      <td>5.0</td>\n",
       "      <td>3.6</td>\n",
       "      <td>1.4</td>\n",
       "      <td>0.2</td>\n",
       "      <td>Setosa</td>\n",
       "    </tr>\n",
       "  </tbody>\n",
       "</table>\n",
       "</div>"
      ],
      "text/plain": [
       "   sepal.length  sepal.width  petal.length  petal.width variety\n",
       "0           5.1          3.5           1.4          0.2  Setosa\n",
       "1           4.9          3.0           1.4          0.2  Setosa\n",
       "2           4.7          3.2           1.3          0.2  Setosa\n",
       "3           4.6          3.1           1.5          0.2  Setosa\n",
       "4           5.0          3.6           1.4          0.2  Setosa"
      ]
     },
     "execution_count": 9,
     "metadata": {},
     "output_type": "execute_result"
    }
   ],
   "source": [
    "# Se importan las librerías necesarias\n",
    "import pandas as pd # Para leer el archivo csv  y convertirlo en un dataframe   \n",
    "import numpy as np  # Para realizar operaciones matemáticas con los datos\n",
    "import matplotlib.pyplot as plt\n",
    "\n",
    "# Se importa el archivo iris.csv se convierte en un dataframe  \n",
    "data = pd.read_csv('iris.csv') \n",
    "data.head()"
   ]
  },
  {
   "cell_type": "code",
   "execution_count": 17,
   "id": "a6cb23a7-6d89-4fd7-801f-1a0fd080582d",
   "metadata": {},
   "outputs": [],
   "source": [
    "class MiClaseEstadistica:\n",
    "    \n",
    "    def __init__(self, archivo):\n",
    "        try:\n",
    "            self.df = pd.read_csv(archivo)\n",
    "        except FileNotFoundError:\n",
    "            raise FileNotFoundError(\"El archivo no existe\")\n",
    "        except pd.errors.ParserError:\n",
    "            raise ValueError(\"El archivo no tiene el formato correcto\")\n",
    "    \n",
    "    def estadisticas_basicas(self):\n",
    "        return self.df.describe()\n",
    "    \n",
    "    def nombres_variables(self):\n",
    "        return list(self.df.columns)\n",
    "    \n",
    "    def estadisticas_variable(self, variable):\n",
    "        if variable not in self.df.columns:\n",
    "            raise ValueError(\"La variable no existe\")\n",
    "        stats = self.df[variable].describe()\n",
    "        hist = self.df[variable].hist()\n",
    "        plt.title(variable)\n",
    "        plt.show()\n",
    "        return stats, hist\n"
   ]
  },
  {
   "cell_type": "code",
   "execution_count": 18,
   "id": "d7de099b-f8e7-4d54-b7cd-b4586e6339e6",
   "metadata": {},
   "outputs": [
    {
     "name": "stdout",
     "output_type": "stream",
     "text": [
      "       sepal.length  sepal.width  petal.length  petal.width\n",
      "count    150.000000   150.000000    150.000000   150.000000\n",
      "mean       5.843333     3.057333      3.758000     1.199333\n",
      "std        0.828066     0.435866      1.765298     0.762238\n",
      "min        4.300000     2.000000      1.000000     0.100000\n",
      "25%        5.100000     2.800000      1.600000     0.300000\n",
      "50%        5.800000     3.000000      4.350000     1.300000\n",
      "75%        6.400000     3.300000      5.100000     1.800000\n",
      "max        7.900000     4.400000      6.900000     2.500000\n",
      "['sepal.length', 'sepal.width', 'petal.length', 'petal.width', 'variety']\n"
     ]
    }
   ],
   "source": [
    "mi_objeto_estadistica = MiClaseEstadistica(\"iris.csv\")\n",
    "print(mi_objeto_estadistica.estadisticas_basicas())\n",
    "print(mi_objeto_estadistica.nombres_variables())"
   ]
  },
  {
   "cell_type": "code",
   "execution_count": 37,
   "id": "9ce572ac-9715-40da-ad4b-afe62fa7244e",
   "metadata": {},
   "outputs": [
    {
     "data": {
      "image/png": "[encoded data removed]",
      "text/plain": [
       "<Figure size 640x480 with 1 Axes>"
      ]
     },
     "metadata": {},
     "output_type": "display_data"
    },
    {
     "name": "stdout",
     "output_type": "stream",
     "text": [
      "(count    150.000000\n",
      "mean       5.843333\n",
      "std        0.828066\n",
      "min        4.300000\n",
      "25%        5.100000\n",
      "50%        5.800000\n",
      "75%        6.400000\n",
      "max        7.900000\n",
      "Name: sepal.length, dtype: float64, <Axes: title={'center': 'sepal.length'}>)\n"
     ]
    }
   ],
   "source": [
    "print(mi_objeto_estadistica.estadisticas_variable(\"sepal.length\"))"
   ]
  },
  {
   "cell_type": "code",
   "execution_count": null,
   "id": "c607cda0-a9c1-4b5f-8459-87d939391988",
   "metadata": {},
   "outputs": [],
   "source": []
  }
 ],
 "metadata": {
  "kernelspec": {
   "display_name": "Python 3 (ipykernel)",
   "language": "python",
   "name": "python3"
  },
  "language_info": {
   "codemirror_mode": {
    "name": "ipython",
    "version": 3
   },
   "file_extension": ".py",
   "mimetype": "text/x-python",
   "name": "python",
   "nbconvert_exporter": "python",
   "pygments_lexer": "ipython3",
   "version": "3.11.3"
  }
 },
 "nbformat": 4,
 "nbformat_minor": 5
}
