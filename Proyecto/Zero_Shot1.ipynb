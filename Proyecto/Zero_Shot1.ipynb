{
 "cells": [
  {
   "cell_type": "code",
   "execution_count": 1,
   "id": "6e15d432-881c-4da8-8be5-ec6b97da9e7f",
   "metadata": {},
   "outputs": [
    {
     "ename": "ModuleNotFoundError",
     "evalue": "No module named 'transformers'",
     "output_type": "error",
     "traceback": [
      "\u001b[0;31m---------------------------------------------------------------------------\u001b[0m",
      "\u001b[0;31mModuleNotFoundError\u001b[0m                       Traceback (most recent call last)",
      "Cell \u001b[0;32mIn[1], line 1\u001b[0m\n\u001b[0;32m----> 1\u001b[0m \u001b[38;5;28;01mimport\u001b[39;00m \u001b[38;5;21;01mtransformers\u001b[39;00m\n",
      "\u001b[0;31mModuleNotFoundError\u001b[0m: No module named 'transformers'"
     ]
    }
   ],
   "source": [
    "import transformers"
   ]
  },
  {
   "cell_type": "code",
   "execution_count": null,
   "id": "81d816aa-1d64-4c8c-8c8d-0c6d5ee650f4",
   "metadata": {
    "tags": []
   },
   "outputs": [],
   "source": [
    "from transformers import XLMRobertaTokenizer, XLMRobertaForSequenceClassification\n",
    "\n",
    "# Cargar el modelo pre-entrenado XLM-R\n",
    "model_name = \"xlm-roberta-base\"\n",
    "model = XLMRobertaForSequenceClassification.from_pretrained(model_name)\n",
    "\n",
    "# Cargar el tokenizador correspondiente al modelo\n",
    "tokenizer = XLMRobertaTokenizer.from_pretrained(model_name)\n",
    "\n",
    "# Codificar el texto de entrada en un formato adecuado para el modelo\n",
    "text = \"Este es un ejemplo de texto en español.\"\n",
    "encoded_input = tokenizer.encode_plus(text, max_length=128, padding=\"max_length\", truncation=True, return_tensors=\"pt\")\n",
    "\n",
    "# Obtener los tensores de entrada para el modelo (input_ids, attention_mask)\n",
    "input_ids = encoded_input[\"input_ids\"]\n",
    "attention_mask = encoded_input[\"attention_mask\"]\n",
    "\n",
    "# Pasar los tensores de entrada al modelo y obtener las predicciones\n",
    "output = model(input_ids, attention_mask=attention_mask)\n",
    "logits = output.logits\n",
    "\n",
    "# Decodificar las predicciones en etiquetas de clasificación\n",
    "labels = [\"Clase 1\", \"Clase 2\", \"Clase 3\"] # Reemplaza con tus etiquetas de clasificación\n",
    "predicted_label = labels[logits.argmax().item()]\n",
    "\n",
    "print(\"Texto de entrada:\", text)\n",
    "print(\"Etiqueta predicha:\", predicted_label)\n"
   ]
  },
  {
   "cell_type": "code",
   "execution_count": null,
   "id": "996c0099-c142-434e-ab2d-d163a899dda6",
   "metadata": {},
   "outputs": [],
   "source": []
  },
  {
   "cell_type": "code",
   "execution_count": null,
   "id": "f99b5621-4247-4cf0-b152-7bcd7f63829a",
   "metadata": {},
   "outputs": [],
   "source": []
  }
 ],
 "metadata": {
  "kernelspec": {
   "display_name": "Python 3 (ipykernel)",
   "language": "python",
   "name": "python3"
  },
  "language_info": {
   "codemirror_mode": {
    "name": "ipython",
    "version": 3
   },
   "file_extension": ".py",
   "mimetype": "text/x-python",
   "name": "python",
   "nbconvert_exporter": "python",
   "pygments_lexer": "ipython3",
   "version": "3.10.6"
  }
 },
 "nbformat": 4,
 "nbformat_minor": 5
}
