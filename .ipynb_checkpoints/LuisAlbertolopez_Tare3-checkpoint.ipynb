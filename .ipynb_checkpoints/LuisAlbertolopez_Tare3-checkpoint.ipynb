{
 "cells": [
  {
   "cell_type": "markdown",
   "id": "bb4db0d2-0fb9-46e9-9397-82a474f73282",
   "metadata": {},
   "source": [
    "![Universidad Nacional](https://egresados.unal.edu.co/images/recursos/guiaVisual/_Comunicaciones-09.jpg)"
   ]
  },
  {
   "cell_type": "markdown",
   "id": "21f92c8b-615b-4be0-8d3e-c5aff61fbcf5",
   "metadata": {},
   "source": [
    "<figure>\n",
    "<img src=\"https://upload.wikimedia.org/wikipedia/commons/thumb/a/a2/Escudo_de_la_Universidad_Nacional_de_Colombia_%282016%29.svg/800px-Escudo_de_la_Universidad_Nacional_de_Colombia_%282016%29.svg.png\"  width=\"80\" height=\"80\" align=\"left\"/> \n",
    "</figure>\n",
    "\n",
    "# <span style=\"color:blue\"><left> Diplomado de Inteligencia Artificial y Aprendizaje Profundo</left></span>"
   ]
  },
  {
   "cell_type": "markdown",
   "id": "f321dc45-7077-4011-ac27-18d8ba453837",
   "metadata": {},
   "source": [
    "# <span style=\"color:green\"><center>Tarea 3 - Funciones Práctica</center><span>"
   ]
  },
  {
   "cell_type": "markdown",
   "id": "c0d27eea-864e-4d7c-9777-3cf4830966fb",
   "metadata": {},
   "source": [
    "## Practicaremos funciones.\n",
    "Como en la tarea 1, prepare un cuaderno solución de la tarea.\n",
    "\n",
    "Cada ejercicio debe ser probado con un ejemplo de datos.\n",
    "\n",
    "1. Escriba una función  que reciba la fecha de nacimiento de un a persona y calcule la edad de la persona\n",
    "\n",
    "2. Crea una función EscribirCentrado, que reciba como parámetro un texto y lo escriba centrado en pantalla (suponiendo una anchura de 80 columnas; pista: deberás escribir 40 - longitud/2 espacios antes del texto).  \n",
    "\n",
    "\n",
    "3. Construya una función decorada que reciba un texto y lo escriba marcado con Markdown en itálica y resaltada (bold). Revise la lección de decoradores, no vista en clase.\n",
    "\n",
    "4.  Crea un programa que pida dos número enteros al usuario y diga si alguno de ellos es múltiplo del otro. \n",
    "\n",
    "\n",
    "5. Crear una función re reciba una lista  de 24 valores de temperatura leída  hora en un día y que calcule la temperatura media  Cree una lista con 24 valores de temperatura de un día de Bogotá y pruebe su función. Invente los datos.\n",
    "\n",
    "\n",
    "5. Crea un función “ConvertirEspaciado”, que reciba como parámetro un texto y devuelve una cadena con un espacio adicional tras cada letra. Por ejemplo, “Hola, tú” devolverá “H o l a , t ú “.  Pruebe \n",
    "\n",
    "6. Crea una función “calcularMaxMin” que recibe una arreglo con valores numérico y devuelve el valor máximo y el mínimo. \n",
    "7.  Diseñar una función que calcule el área y el perímetro de una circunferencia. \n",
    "\n",
    "8. Crear una función  llamada “Login”, que recibe un nombre de usuario y una contraseña y devuelva Verdadero si el nombre de usuario es “usuario1” y la contraseña es “asdasd”. Además recibe el número de intentos que se ha intentado hacer login y si no se ha podido hacer login incremente este valor.\n",
    "\n",
    "9. Crear una función recursiva que permita calcular el factorial de un número. Realiza un programa principal donde se lea un entero y se muestre el resultado del factorial. Revise la lección de funciones.\n",
    "\n",
    "10. Escribir dos funciones que permitan calcular:\n",
    "\n",
    "    * La cantidad de segundos en un tiempo dado en horas, minutos y segundos.\n",
    "    * La cantidad de horas, minutos y segundos de un tiempo dado en segundos\n",
    "\n",
    "\n",
    "11. Crea una función  que lea una tupla, invierta los valores de la tupla y regrese una nueva tupla invirtiendo los valores. Recuerde que las tuplas son inmutables.\n",
    "\n",
    "12. Escriba una función que lea una lista y calcule la media geométrica de sus valores, usando funtools.reduce.\n",
    "\n",
    "**Entregable.**\n",
    "\n",
    "Enlace a la solución escrita en un cuaderno de Jupyter Lab y puesto en Github."
   ]
  },
  {
   "cell_type": "markdown",
   "id": "a2bf483e-b132-4bbd-922a-069b96e13af6",
   "metadata": {},
   "source": [
    "### Función calculo de la edad"
   ]
  },
  {
   "cell_type": "code",
   "execution_count": 17,
   "id": "2e739e31-25ae-4e80-9276-dfd89cb8dc97",
   "metadata": {},
   "outputs": [],
   "source": [
    "# Se importa la libreria datetime para manipular las fechas adicionalmente las librerias loggin y request para ir validando el código\n",
    "import datetime\n",
    "import logging # (versión 2.35)\n",
    "import requests\n",
    "\n",
    "def calculo_edad():\n",
    "    \n",
    "\n",
    "        #logging.basicConfig(level=logging.INFO, format='%(levelname)s-%(message)s')\n",
    "\n",
    "        # Se solicita al usuario que ingrese la fecha de su nacimiento en formato dd/mm/aaaa\n",
    "\n",
    "        fecha_nacimiento = input(\"Ingrese la fecha de nacimiento (dd/mm/aaaa):\")\n",
    "        #logging.info(\"Captura la fecha_nacimiento\")\n",
    "\n",
    "        try:\n",
    "            # Convertir la cadena de texto en un objeto de fecha\n",
    "            fecha_nacimiento = datetime.datetime.strptime(fecha_nacimiento, \"%d/%m/%Y\")\n",
    "            #logging.info(\"Convierte 'fecha_nacimiento' al formato solicitado\")\n",
    "\n",
    "            # Se obtiene la fecha actual\n",
    "            fecha_hoy = datetime.datetime.now()\n",
    "            #logging.info(\"Se obtiene la fecha de hoy\")\n",
    "\n",
    "            #Se calcula la diferencia entre la fecha de hoy y la fecha de nacimiento para obtener la diferencia\n",
    "            diferencia = fecha_hoy - fecha_nacimiento\n",
    "            edad = diferencia.days // 365\n",
    "            #logging.info(\"La respuesta fue exitosa\")\n",
    "\n",
    "            # Se imprime la edad del usuario\n",
    "            print(f\"Su edad es:{edad} años\")\n",
    "\n",
    "        except:\n",
    "            print(\"Error: el formato de fecha ingresado no es válido. Por favor ingresa la fecha en formato dd/mm/aaaa.\")"
   ]
  },
  {
   "cell_type": "code",
   "execution_count": null,
   "id": "40c0bfbf-018d-4ffa-8c1f-2d4cedd5fe4b",
   "metadata": {},
   "outputs": [],
   "source": []
  },
  {
   "cell_type": "code",
   "execution_count": 18,
   "id": "3d661000-c3f6-4e11-8afd-944ae58473ff",
   "metadata": {},
   "outputs": [
    {
     "name": "stdin",
     "output_type": "stream",
     "text": [
      "Ingrese la fecha de nacimiento (dd/mm/aaaa): 12/05/1965\n"
     ]
    },
    {
     "name": "stdout",
     "output_type": "stream",
     "text": [
      "Su edad es:57 años\n"
     ]
    }
   ],
   "source": [
    "calculo_edad()"
   ]
  },
  {
   "cell_type": "code",
   "execution_count": 19,
   "id": "45926f14-b2e8-4846-8af7-c17163d29703",
   "metadata": {},
   "outputs": [
    {
     "name": "stdin",
     "output_type": "stream",
     "text": [
      "Ingrese la fecha de nacimiento (dd/mm/aaaa): 19/06/1974\n"
     ]
    },
    {
     "name": "stdout",
     "output_type": "stream",
     "text": [
      "Su edad es:48 años\n"
     ]
    }
   ],
   "source": [
    "calculo_edad()"
   ]
  },
  {
   "cell_type": "code",
   "execution_count": 20,
   "id": "8b3d5321-5f4c-4c01-af62-687c49c8a25b",
   "metadata": {},
   "outputs": [
    {
     "name": "stdin",
     "output_type": "stream",
     "text": [
      "Ingrese la fecha de nacimiento (dd/mm/aaaa): 01011970\n"
     ]
    },
    {
     "name": "stdout",
     "output_type": "stream",
     "text": [
      "Error: el formato de fecha ingresado no es válido. Por favor ingresa la fecha en formato dd/mm/aaaa.\n"
     ]
    }
   ],
   "source": [
    "calculo_edad()"
   ]
  },
  {
   "cell_type": "markdown",
   "id": "230be584-942c-4098-b815-9d1ecfce3125",
   "metadata": {},
   "source": [
    "### Función EscribirCentrado"
   ]
  },
  {
   "cell_type": "code",
   "execution_count": 23,
   "id": "addd31d4-201d-4146-bde2-0fb7a66206b7",
   "metadata": {},
   "outputs": [],
   "source": [
    "def escribir_centrado(texto):\n",
    "    \n",
    "    #Obtener la longitud del texto\n",
    "    l = len(texto)\n",
    "    \n",
    "    # Calcular la longitud antes del texto\n",
    "    espacios = (40 - l // 2)*' '\n",
    "    \n",
    "    # Se imprime el texto centrado en pantalla\n",
    "    print(espacios + texto)\n",
    "                "
   ]
  },
  {
   "cell_type": "code",
   "execution_count": 24,
   "id": "80e4fdb5-10ba-438d-ae63-2b4e1d4c406a",
   "metadata": {},
   "outputs": [
    {
     "name": "stdout",
     "output_type": "stream",
     "text": [
      "                       Soy un texto y deseo estar centrado\n"
     ]
    }
   ],
   "source": [
    "text = \"Soy un texto y deseo estar centrado\"\n",
    "escribir_centrado(text)"
   ]
  },
  {
   "cell_type": "markdown",
   "id": "8d66bf87-4b2c-48c6-b456-119a46dc472b",
   "metadata": {},
   "source": [
    "### Función Decoradora\n",
    "Para construir una función decorada que reciba un texto y lo escriba marcado con Markdown en itálica y resaltada (bold), utilicé la ayuda de *chat gpt* adicional a revisar la lección de decoradores, que no hemos visto aun en clase.\n",
    "Lo que he entendido es que un decorador es una función compuesta que le agrega funcionalidad a una función original sin modificarla. Encontré este ejercicio que me llamó la atención para mejorar mi aproximación al concepto.\n",
    "Partiendo de la función creada anteriormente, **calculo_edad** se requiere agregarle una nueva funcionalidad. Esta nueva funcionalidad es: medir su tiempo de ejecución. Veamos:"
   ]
  },
  {
   "cell_type": "code",
   "execution_count": 30,
   "id": "fe367828-f035-4780-b030-b05963bdb725",
   "metadata": {},
   "outputs": [],
   "source": [
    "import time\n",
    "\n",
    "def calculo_edad():\n",
    "    # Código de la función original para calcular la edad\n",
    "    # ----------------------------------------------------\n",
    "    # Se solicita al usuario que ingrese la fecha de su nacimiento en formato dd/mm/aaaa\n",
    "\n",
    "        fecha_nacimiento = input(\"Ingrese la fecha de nacimiento (dd/mm/aaaa):\")\n",
    "        \n",
    "        \n",
    "        try:\n",
    "            # Convertir la cadena de texto en un objeto de fecha\n",
    "            fecha_nacimiento = datetime.datetime.strptime(fecha_nacimiento, \"%d/%m/%Y\")\n",
    "            \n",
    "            # Se obtiene la fecha actual\n",
    "            fecha_hoy = datetime.datetime.now()\n",
    "            \n",
    "            #Se calcula la diferencia entre la fecha de hoy y la fecha de nacimiento para obtener la diferencia\n",
    "            diferencia = fecha_hoy - fecha_nacimiento\n",
    "            edad = diferencia.days // 365\n",
    "            \n",
    "            # Se imprime la edad del usuario\n",
    "            print(f\"Su edad es:{edad} años\")\n",
    "\n",
    "        except:\n",
    "            print(\"Error: el formato de fecha ingresado no es válido. Por favor ingresa la fecha en formato dd/mm/aaaa.\")\n",
    "    \n",
    "\n",
    "def decorador_medir_tiempo(funcion):\n",
    "    def wrapper(*args, **kwargs):\n",
    "        # Medir el tiempo de inicio\n",
    "        inicio = time.time()\n",
    "        # Llamar a la función original\n",
    "        resultado = funcion(*args, **kwargs)\n",
    "        # Medir el tiempo de fin\n",
    "        fin = time.time()\n",
    "        # Calcular el tiempo de ejecución\n",
    "        tiempo_ejecucion = fin - inicio\n",
    "        print(f'Tiempo de ejecución de {funcion.__name__}: {tiempo_ejecucion} segundos')\n",
    "        # Retornar el resultado de la función original\n",
    "        return resultado\n",
    "    return wrapper\n",
    "\n",
    "@decorador_medir_tiempo\n",
    "def calculo_edad():\n",
    "    # Código de la función original para calcular la edad\n",
    "    fecha_nacimiento = input(\"Ingrese la fecha de nacimiento (dd/mm/aaaa):\")\n",
    "    \n",
    "    try:\n",
    "            # Convertir la cadena de texto en un objeto de fecha\n",
    "            fecha_nacimiento = datetime.datetime.strptime(fecha_nacimiento, \"%d/%m/%Y\")\n",
    "            \n",
    "            # Se obtiene la fecha actual\n",
    "            fecha_hoy = datetime.datetime.now()\n",
    "            \n",
    "            #Se calcula la diferencia entre la fecha de hoy y la fecha de nacimiento para obtener la diferencia\n",
    "            diferencia = fecha_hoy - fecha_nacimiento\n",
    "            edad = diferencia.days // 365\n",
    "            \n",
    "            # Se imprime la edad del usuario\n",
    "            print(f\"Su edad es:{edad} años\")\n",
    "\n",
    "    except:\n",
    "            print(\"Error: el formato de fecha ingresado no es válido. Por favor ingresa la fecha en formato dd/mm/aaaa.\")       \n",
    "        \n"
   ]
  },
  {
   "cell_type": "code",
   "execution_count": 32,
   "id": "7c115080-8b48-418a-bfa8-9497362a0d33",
   "metadata": {},
   "outputs": [
    {
     "name": "stdin",
     "output_type": "stream",
     "text": [
      "Ingrese la fecha de nacimiento (dd/mm/aaaa): 12/05/1965\n"
     ]
    },
    {
     "name": "stdout",
     "output_type": "stream",
     "text": [
      "Su edad es:57 años\n",
      "Tiempo de ejecución de calculo_edad: 6.965175628662109 segundos\n"
     ]
    }
   ],
   "source": [
    "edad = calculo_edad()"
   ]
  },
  {
   "cell_type": "code",
   "execution_count": 38,
   "id": "2fd17b0e-8a93-4b1d-a511-71ab156de918",
   "metadata": {},
   "outputs": [],
   "source": [
    "def decorador_markdown(funcion):\n",
    "    def wrapper(texto):\n",
    "        # Agregar formato de negrita al texto\n",
    "        texto_decorado = \"_{}_\", \"**{}**\"\n",
    "        texto_decorado = texto_decorado[1].format(texto_decorado[0].format(texto))\n",
    "\n",
    "        # Llamar a la función original con el texto decorado\n",
    "        funcion(texto_decorado)\n",
    "    return wrapper\n",
    "\n",
    "@decorador_markdown\n",
    "def escribir_centrado(texto):\n",
    "    \n",
    "    #Obtener la longitud del texto\n",
    "    l = len(texto)\n",
    "    \n",
    "    # Calcular la longitud antes del texto\n",
    "    espacios = (40 - l // 2)*' '\n",
    "    \n",
    "    # Se imprime el texto centrado en pantalla\n",
    "    print(espacios + texto)\n",
    "\n"
   ]
  },
  {
   "cell_type": "code",
   "execution_count": 39,
   "id": "7164cc31-f936-490f-ad1f-7dac212e35f7",
   "metadata": {},
   "outputs": [
    {
     "name": "stdout",
     "output_type": "stream",
     "text": [
      "                      **_Hola, soy un texto en Markdown_**\n"
     ]
    }
   ],
   "source": [
    "texto = \"Hola, soy un texto en Markdown\"\n",
    "escribir_centrado(texto)\n"
   ]
  },
  {
   "cell_type": "markdown",
   "id": "38b91dd8-a157-4c8c-b607-c9145fbb4378",
   "metadata": {},
   "source": [
    "### Funcion múltiplo"
   ]
  },
  {
   "cell_type": "code",
   "execution_count": 54,
   "id": "56b8dd79-7081-4cb0-be04-142aa14b7704",
   "metadata": {},
   "outputs": [],
   "source": [
    "def multiplo():\n",
    "    try:\n",
    "        # Solicitar dos números enteros al usuario\n",
    "        numero1 = int(input(\"Ingrese el primer número entero: \"))\n",
    "        numero2 = int(input(\"Ingrese el segundo número entero: \"))\n",
    "\n",
    "        # Verificar si alguno de los números es múltiplo del otro\n",
    "        if numero1 % numero2 == 0:\n",
    "            print(f\"{numero1} es múltiplo de {numero2}.\")\n",
    "        elif numero2 % numero1 == 0:\n",
    "            print(f\"{numero2} es múltiplo de {numero1}.\")\n",
    "        else:\n",
    "            print(\"Los números no son múltiplos entre sí.\")\n",
    "    except:\n",
    "        print(\"Error, los valores ingresados no corresponden a valores enteros\")"
   ]
  },
  {
   "cell_type": "code",
   "execution_count": 56,
   "id": "6d532cfc-7717-42a5-a0c4-3f8a8af7a23c",
   "metadata": {},
   "outputs": [
    {
     "name": "stdin",
     "output_type": "stream",
     "text": [
      "Ingrese el primer número entero:  23\n",
      "Ingrese el segundo número entero:  32.0\n"
     ]
    },
    {
     "name": "stdout",
     "output_type": "stream",
     "text": [
      "Error, los valores ingresados no corresponden a valores enteros\n"
     ]
    }
   ],
   "source": [
    "multiplo()"
   ]
  },
  {
   "cell_type": "markdown",
   "id": "7621f12c-f4d0-461a-8890-56fd06eaad0b",
   "metadata": {},
   "source": [
    "### Función Temperatura media"
   ]
  },
  {
   "cell_type": "code",
   "execution_count": 57,
   "id": "e395146c-00e3-4b69-baaa-c5436c45c4c6",
   "metadata": {},
   "outputs": [
    {
     "name": "stdout",
     "output_type": "stream",
     "text": [
      "La temperatura media en Bogotá en un día es:  14.958333333333334\n"
     ]
    }
   ],
   "source": [
    "def calcular_temperatura_media(temperaturas):\n",
    "    \"\"\"\n",
    "    Calcula la temperatura media dada una lista de 24 valores de temperatura.\n",
    "    \"\"\"\n",
    "    if len(temperaturas) != 24:\n",
    "        raise ValueError(\"La lista de temperaturas debe tener exactamente 24 valores.\")\n",
    "    suma_temperaturas = sum(temperaturas)\n",
    "    temperatura_media = suma_temperaturas / 24\n",
    "    return temperatura_media\n",
    "\n",
    "# Lista de temperaturas de Bogotá (ejemplo inventado)\n",
    "temperaturas_bogota = [15, 14, 14, 13, 12, 12, 11, 11, 11, 12, 13, 14, 15, 16, 17, 18, 18, 19, 19, 19, 18, 17, 16, 15]\n",
    "\n",
    "# Llamada a la función para calcular la temperatura media\n",
    "temperatura_media_bogota = calcular_temperatura_media(temperaturas_bogota)\n",
    "\n",
    "print(\"La temperatura media en Bogotá en un día es: \", temperatura_media_bogota)\n"
   ]
  },
  {
   "cell_type": "markdown",
   "id": "49c7f630-89cd-42d4-84ae-d78f65ba03bf",
   "metadata": {},
   "source": [
    "### Función texto espaciado"
   ]
  },
  {
   "cell_type": "code",
   "execution_count": 58,
   "id": "526dcce6-5d35-4186-b733-b1d233e28704",
   "metadata": {},
   "outputs": [
    {
     "name": "stdout",
     "output_type": "stream",
     "text": [
      "Texto original:  Hola, tú\n",
      "Texto con espaciado adicional:  H o l a ,   t ú\n"
     ]
    }
   ],
   "source": [
    "def convertir_espaciado(texto):\n",
    "    \"\"\"\n",
    "    Convierte un texto añadiendo un espacio adicional tras cada letra.\n",
    "    \"\"\"\n",
    "    texto_espaciado = \" \".join(texto)\n",
    "    return texto_espaciado\n",
    "\n",
    "# Texto de ejemplo\n",
    "texto = \"Hola, tú\"\n",
    "\n",
    "# Llamada a la función para convertir el espaciado\n",
    "texto_espaciado = convertir_espaciado(texto)\n",
    "\n",
    "print(\"Texto original: \", texto)\n",
    "print(\"Texto con espaciado adicional: \", texto_espaciado)\n"
   ]
  },
  {
   "cell_type": "markdown",
   "id": "e0a14f31-1384-42a7-9677-7c3035b757c5",
   "metadata": {},
   "source": [
    "### Función perimetro y area de una circunferencia"
   ]
  },
  {
   "cell_type": "code",
   "execution_count": 60,
   "id": "5a314ab7-2b25-417a-85b2-6cc2f464b595",
   "metadata": {},
   "outputs": [
    {
     "name": "stdout",
     "output_type": "stream",
     "text": [
      "Radio de la circunferencia:  5\n",
      "Área de la circunferencia:  78.53981633974483\n",
      "Perímetro de la circunferencia:  31.41592653589793\n"
     ]
    }
   ],
   "source": [
    "import math\n",
    "\n",
    "def calcular_area_perimetro_circunferencia(radio):\n",
    "    \"\"\"\n",
    "    Calcula el área y el perímetro de una circunferencia dado su radio.\n",
    "    \"\"\"\n",
    "    # Cálculo del área de la circunferencia\n",
    "    area = math.pi * radio ** 2\n",
    "\n",
    "    # Cálculo del perímetro de la circunferencia\n",
    "    perimetro = 2 * math.pi * radio\n",
    "\n",
    "    # Retorno de los resultados\n",
    "    return area, perimetro\n",
    "\n",
    "\n",
    "\n",
    "\n"
   ]
  },
  {
   "cell_type": "code",
   "execution_count": 61,
   "id": "dcf4f5af-90d8-4db3-8e42-bc411027eae4",
   "metadata": {},
   "outputs": [
    {
     "name": "stdout",
     "output_type": "stream",
     "text": [
      "Radio de la circunferencia:  15\n",
      "Área de la circunferencia:  706.8583470577034\n",
      "Perímetro de la circunferencia:  94.24777960769379\n"
     ]
    }
   ],
   "source": [
    "# Radio de la circunferencia\n",
    "radio = 15\n",
    "\n",
    "# Llamada a la función para calcular el área y el perímetro\n",
    "area, perimetro = calcular_area_perimetro_circunferencia(radio)\n",
    "# Impresión de los resultados\n",
    "print(\"Radio de la circunferencia: \", radio)\n",
    "print(\"Área de la circunferencia: \", area)\n",
    "print(\"Perímetro de la circunferencia: \", perimetro)"
   ]
  },
  {
   "cell_type": "markdown",
   "id": "c2fb91e9-191b-4ac7-abaf-af401dc734b9",
   "metadata": {},
   "source": [
    "### Función validación acceso"
   ]
  },
  {
   "cell_type": "code",
   "execution_count": 62,
   "id": "861af46f-40e4-4b83-b700-c81ec726859d",
   "metadata": {},
   "outputs": [],
   "source": [
    "def login(nombre_usuario, contrasena, intentos):\n",
    "    \"\"\"\n",
    "    Realiza la verificación de login basada en un nombre de usuario y contraseña.\n",
    "    Incrementa el contador de intentos si no se ha podido hacer login.\n",
    "    \"\"\"\n",
    "    # Nombre de usuario y contraseña correctos\n",
    "    usuario_correcto = \"usuario1\"\n",
    "    contrasena_correcta = \"asdasd\"\n",
    "\n",
    "    # Verificación del nombre de usuario y contraseña\n",
    "    if nombre_usuario == usuario_correcto and contrasena == contrasena_correcta:\n",
    "        print(\"¡Login exitoso!\")\n",
    "        return True\n",
    "    else:\n",
    "        intentos += 1\n",
    "        print(\"Nombre de usuario o contraseña incorrectos.\")\n",
    "        print(\"Número de intentos: \", intentos)\n",
    "        return False\n"
   ]
  },
  {
   "cell_type": "code",
   "execution_count": 67,
   "id": "d8620cdb-0831-4053-b825-64d6d3e9f6a9",
   "metadata": {},
   "outputs": [
    {
     "name": "stdin",
     "output_type": "stream",
     "text": [
      "Nombre de usuario:  luis\n",
      "Contraseña:  1230\n"
     ]
    },
    {
     "name": "stdout",
     "output_type": "stream",
     "text": [
      "Nombre de usuario o contraseña incorrectos.\n",
      "Número de intentos:  1\n",
      "No se ha podido hacer login. Por favor, intente nuevamente.\n"
     ]
    },
    {
     "name": "stdin",
     "output_type": "stream",
     "text": [
      "Nombre de usuario:  luis\n",
      "Contraseña:  sasp\n"
     ]
    },
    {
     "name": "stdout",
     "output_type": "stream",
     "text": [
      "Nombre de usuario o contraseña incorrectos.\n",
      "Número de intentos:  1\n",
      "No se ha podido hacer login. Por favor, intente nuevamente.\n"
     ]
    }
   ],
   "source": [
    "# Datos de prueba\n",
    "usuario = input(\"Nombre de usuario: \")\n",
    "contrasena = input(\"Contraseña: \")\n",
    "intentos = 0\n",
    "\n",
    "# Llamada a la función de login\n",
    "resultado = login(usuario, contrasena, intentos)\n",
    "\n",
    "# Verificación del resultado\n",
    "if resultado:\n",
    "    print(\"Bienvenido, \", usuario)\n",
    "else:\n",
    "    print(\"No se ha podido hacer login. Por favor, intente nuevamente.\")\n",
    "\n",
    "# Datos de prueba\n",
    "usuario = input(\"Nombre de usuario: \")\n",
    "contrasena = input(\"Contraseña: \")\n",
    "intentos = 0\n",
    "\n",
    "# Llamada a la función de login\n",
    "resultado = login(usuario, contrasena, intentos)\n",
    "\n",
    "# Verificación del resultado\n",
    "if resultado:\n",
    "    print(\"Bienvenido, \", usuario)\n",
    "else:\n",
    "    print(\"No se ha podido hacer login. Por favor, intente nuevamente.\")"
   ]
  },
  {
   "cell_type": "code",
   "execution_count": 69,
   "id": "af24b030-90dc-47fb-a57c-3d2ece5268c8",
   "metadata": {},
   "outputs": [
    {
     "name": "stdin",
     "output_type": "stream",
     "text": [
      "Nombre de usuario:  luis\n",
      "Contraseña:  7894\n"
     ]
    },
    {
     "name": "stdout",
     "output_type": "stream",
     "text": [
      "Nombre de usuario o contraseña incorrectos.\n",
      "Número de intentos:  1\n",
      "No se ha podido hacer login. Por favor, intente nuevamente.\n",
      "Número de intentos acumulados:  1\n"
     ]
    }
   ],
   "source": [
    "def login(nombre_usuario, contrasena, intentos):\n",
    "    \"\"\"\n",
    "    Realiza la verificación de login basada en un nombre de usuario y contraseña.\n",
    "    Incrementa el contador de intentos si no se ha podido hacer login.\n",
    "    \"\"\"\n",
    "    # Nombre de usuario y contraseña correctos\n",
    "    usuario_correcto = \"usuario1\"\n",
    "    contrasena_correcta = \"asdasd\"\n",
    "\n",
    "    # Verificación del nombre de usuario y contraseña\n",
    "    if nombre_usuario == usuario_correcto and contrasena == contrasena_correcta:\n",
    "        print(\"¡Login exitoso!\")\n",
    "        return True\n",
    "    else:\n",
    "        intentos += 1\n",
    "        print(\"Nombre de usuario o contraseña incorrectos.\")\n",
    "        print(\"Número de intentos: \", intentos)\n",
    "        return False, intentos\n",
    "\n",
    "# Datos de prueba\n",
    "usuario = input(\"Nombre de usuario: \")\n",
    "contrasena = input(\"Contraseña: \")\n",
    "intentos = 0\n",
    "\n",
    "# Llamada a la función de login\n",
    "resultado, intentos = login(usuario, contrasena, intentos)\n",
    "\n",
    "# Verificación del resultado\n",
    "if resultado:\n",
    "    print(\"Bienvenido, \", usuario)\n",
    "else:\n",
    "    print(\"No se ha podido hacer login. Por favor, intente nuevamente.\")\n",
    "    print(\"Número de intentos acumulados: \", intentos)"
   ]
  },
  {
   "cell_type": "markdown",
   "id": "58c5f700-c918-42a0-bc5f-5454e86e9c44",
   "metadata": {},
   "source": [
    "### Función factorial - función recursiva"
   ]
  },
  {
   "cell_type": "code",
   "execution_count": 70,
   "id": "2cea101f-e93d-4037-b448-025a55eff48a",
   "metadata": {},
   "outputs": [],
   "source": [
    "# Función Factorial\n",
    "def factorial (n):\n",
    "    if isinstance(n,int) == False:\n",
    "        print(\"El factorial está definido solo para enteros positivos \")\n",
    "        return(-1)\n",
    "    elif n < 0:\n",
    "        print(\"El factorial está definido solo para enteros positivos\")\n",
    "        return(-1)\n",
    "    elif n == 0:\n",
    "        return(1)\n",
    "    else:\n",
    "        return(n*factorial(n-1))\n",
    "\n"
   ]
  },
  {
   "cell_type": "code",
   "execution_count": 71,
   "id": "ee17b7ae-76cb-4f26-ae02-219de9c5142b",
   "metadata": {},
   "outputs": [
    {
     "name": "stdout",
     "output_type": "stream",
     "text": [
      "El factorial está definido solo para enteros positivos \n",
      "-1\n",
      "El factorial está definido solo para enteros positivos\n",
      "-1\n",
      "5040\n",
      "El factorial está definido solo para enteros positivos \n"
     ]
    },
    {
     "data": {
      "text/plain": [
       "-1"
      ]
     },
     "execution_count": 71,
     "metadata": {},
     "output_type": "execute_result"
    }
   ],
   "source": [
    "print(factorial(5.5))\n",
    "print(factorial(-30))\n",
    "a = factorial(7)\n",
    "print(a)\n",
    "factorial(\"paco\")"
   ]
  },
  {
   "cell_type": "markdown",
   "id": "21d50101-4bb7-4fce-9f3d-4960383b9f25",
   "metadata": {},
   "source": [
    "### Escribir dos funciones que permitan calcular:\n",
    "\n",
    "    * La cantidad de segundos en un tiempo dado en horas, minutos y segundos.\n",
    "    * La cantidad de horas, minutos y segundos de un tiempo dado en segundos\n",
    "\n"
   ]
  },
  {
   "cell_type": "markdown",
   "id": "9d49201d-53ea-401c-ae18-7da89a8957da",
   "metadata": {},
   "source": [
    "Para este ejercicio no pude dejar de pensar en la programación orientada a objetos y me puse a la tarea de resolverlo pensando en las horas como objetos. Primero buscaré que la clase Hora (tiempo) le dé formato a los valores ingresados en térmisos de tiempo. Veamos:"
   ]
  },
  {
   "cell_type": "code",
   "execution_count": 86,
   "id": "28d00ec2-5ae7-47a6-a72d-4b984b30506f",
   "metadata": {},
   "outputs": [],
   "source": [
    "# Se define la clase **Hora**, para que reciba los parametros: horas, minutos y segundos.\n",
    "class Hora():\n",
    "    # Constructor permitiendo que los parametros puedan ser ceros\n",
    "    def __init__(self, horas=0, minutos=0, segundos=0):\n",
    "        self.horas = horas\n",
    "        self.minutos = minutos\n",
    "        self.segundos = segundos\n",
    "        \n",
    "    # El siguiente método, str , devuelve una representación en forma de cadena de un objeto Hora. Si una clase ofrece un método llamado str , se impone\n",
    "    # al comportamiento por defecto de la función interna str de Python.\n",
    "    def __str__(self):\n",
    "        return '%.2d:%.2d:%.2d' % (self.horas, self.minutos, self.segundos)\n",
    "    \n",
    "    def imprimeHora(self):\n",
    "        \"\"\"Imprime una representación de cadena de la hora .\"\"\"\n",
    "        print(str(self))\n",
    "        \n",
    "    def cantidad_seg(self):\n",
    "        \"\"\"Calcula el n+umero de segundos.\"\"\"\n",
    "        minutos = self.horas * 60 + self.minutos\n",
    "        segundos = minutos * 60 + self.segundos\n",
    "        return segundos\n",
    "    "
   ]
  },
  {
   "cell_type": "code",
   "execution_count": 87,
   "id": "e876c0f4-70d0-49d2-81d3-eae48735416e",
   "metadata": {},
   "outputs": [],
   "source": [
    "def convierteHora(segundos):\n",
    "    hora = Hora()\n",
    "    hora.horas = segundos/3600\n",
    "    segundos = segundos - hora.horas * 3600\n",
    "    \n",
    "    hora.minutos = segundos/60\n",
    "    segundos = segundos - hora.minutos * 60\n",
    "    \n",
    "    hora.segundos = segundos\n",
    "    \n",
    "    return hora"
   ]
  },
  {
   "cell_type": "code",
   "execution_count": 88,
   "id": "8508b874-bcfb-45e5-8cbb-02556863a75c",
   "metadata": {},
   "outputs": [
    {
     "name": "stdout",
     "output_type": "stream",
     "text": [
      "02:00:00\n"
     ]
    }
   ],
   "source": [
    "hora1 = Hora(2)\n",
    "print(hora1)"
   ]
  },
  {
   "cell_type": "code",
   "execution_count": 89,
   "id": "4e32db0d-f3ce-482a-8fae-4bdc41c55e01",
   "metadata": {},
   "outputs": [
    {
     "data": {
      "text/plain": [
       "7200"
      ]
     },
     "execution_count": 89,
     "metadata": {},
     "output_type": "execute_result"
    }
   ],
   "source": [
    "hora1.cantidad_seg()"
   ]
  },
  {
   "cell_type": "code",
   "execution_count": 91,
   "id": "bd47b634-0c60-461d-a0d2-28319f37d880",
   "metadata": {},
   "outputs": [
    {
     "name": "stdout",
     "output_type": "stream",
     "text": [
      "02:00:00\n"
     ]
    }
   ],
   "source": [
    "print(convierteHora(hora1.cantidad_seg()))"
   ]
  },
  {
   "cell_type": "markdown",
   "id": "3d402a17-5348-4a2f-8f14-324d00c68c00",
   "metadata": {},
   "source": [
    "### Función invertir tupla"
   ]
  },
  {
   "cell_type": "code",
   "execution_count": 92,
   "id": "7f12165d-0345-4ab8-bb9f-22e3b00cb9d8",
   "metadata": {},
   "outputs": [],
   "source": [
    "def invertir_tupla(tupla):\n",
    "    \"\"\"\n",
    "    Recibe una tupla y devuelve una nueva tupla con los valores invertidos.\n",
    "    \"\"\"\n",
    "    # Convertir la tupla a una lista para modificarla\n",
    "    lista = list(tupla)\n",
    "    # Invertir los valores en la lista\n",
    "    lista.reverse()\n",
    "    # Convertir la lista de nuevo a una tupla\n",
    "    tupla_invertida = tuple(lista)\n",
    "    return tupla_invertida\n"
   ]
  },
  {
   "cell_type": "code",
   "execution_count": 93,
   "id": "b9a16cae-024e-425a-8c68-c3a6be0ebfe0",
   "metadata": {},
   "outputs": [
    {
     "name": "stdout",
     "output_type": "stream",
     "text": [
      "Tupla original:  (1, 2, 3, 4, 5)\n",
      "Tupla invertida:  (5, 4, 3, 2, 1)\n"
     ]
    }
   ],
   "source": [
    "# Ejemplo de uso\n",
    "tupla_original = (1, 2, 3, 4, 5)\n",
    "print(\"Tupla original: \", tupla_original)\n",
    "tupla_invertida = invertir_tupla(tupla_original)\n",
    "print(\"Tupla invertida: \", tupla_invertida)"
   ]
  },
  {
   "cell_type": "markdown",
   "id": "3a8a4b61-6ebd-4024-be80-50936a227336",
   "metadata": {},
   "source": [
    "### Funcion media geométrica"
   ]
  },
  {
   "cell_type": "code",
   "execution_count": 94,
   "id": "7724c228-6479-4f57-bd98-1ef6cf7152bd",
   "metadata": {},
   "outputs": [],
   "source": [
    "import functools\n",
    "\n",
    "def media_geometrica(lista):\n",
    "    \"\"\"\n",
    "    Recibe una lista de valores y devuelve la media geométrica.\n",
    "    \"\"\"\n",
    "    # Verificar que la lista no esté vacía\n",
    "    if len(lista) == 0:\n",
    "        raise ValueError(\"La lista no puede estar vacía.\")\n",
    "    \n",
    "    # Calcular el producto de todos los elementos de la lista\n",
    "    producto = functools.reduce(lambda x, y: x * y, lista)\n",
    "    \n",
    "    # Calcular la raíz enésima del producto, donde n es el número de elementos en la lista\n",
    "    media_geometrica = producto ** (1 / len(lista))\n",
    "    \n",
    "    return media_geometrica\n"
   ]
  },
  {
   "cell_type": "code",
   "execution_count": 95,
   "id": "4626107c-2eb7-4141-a8a2-c0789623bbf1",
   "metadata": {},
   "outputs": [
    {
     "name": "stdout",
     "output_type": "stream",
     "text": [
      "Media geométrica de la lista:  5.210342169394704\n"
     ]
    }
   ],
   "source": [
    "# Ejemplo de uso\n",
    "lista_valores = [2, 4, 6, 8, 10]\n",
    "media_geom = media_geometrica(lista_valores)\n",
    "print(\"Media geométrica de la lista: \", media_geom)\n"
   ]
  },
  {
   "cell_type": "code",
   "execution_count": null,
   "id": "07fa94ce-1801-4521-ab52-9bef79127afc",
   "metadata": {},
   "outputs": [],
   "source": []
  }
 ],
 "metadata": {
  "kernelspec": {
   "display_name": "Python 3 (ipykernel)",
   "language": "python",
   "name": "python3"
  },
  "language_info": {
   "codemirror_mode": {
    "name": "ipython",
    "version": 3
   },
   "file_extension": ".py",
   "mimetype": "text/x-python",
   "name": "python",
   "nbconvert_exporter": "python",
   "pygments_lexer": "ipython3",
   "version": "3.11.3"
  }
 },
 "nbformat": 4,
 "nbformat_minor": 5
}
