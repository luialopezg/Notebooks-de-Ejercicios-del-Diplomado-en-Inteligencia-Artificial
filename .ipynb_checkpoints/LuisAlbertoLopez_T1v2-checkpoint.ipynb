{
 "cells": [
  {
   "cell_type": "markdown",
   "metadata": {
    "tags": []
   },
   "source": [
    "<h1 style=\"text-align:center; color:red;\">Práctica No. 1, Diplomado de IA y DL</h1>\n",
    "\n"
   ]
  },
  {
   "cell_type": "markdown",
   "metadata": {},
   "source": [
    "![](https://c.files.bbci.co.uk/16D1/production/_100814850_gettyimages-877330410.jpg)"
   ]
  },
  {
   "cell_type": "markdown",
   "metadata": {},
   "source": [
    "## Importando los datos"
   ]
  },
  {
   "cell_type": "code",
   "execution_count": 1,
   "metadata": {
    "tags": []
   },
   "outputs": [],
   "source": [
    "# Importando libreria\n",
    "import pandas as pd"
   ]
  },
  {
   "cell_type": "code",
   "execution_count": 2,
   "metadata": {
    "tags": []
   },
   "outputs": [
    {
     "name": "stdout",
     "output_type": "stream",
     "text": [
      "   Survived  Pclass                                               Name  \\\n",
      "0         0       3                             Mr. Owen Harris Braund   \n",
      "1         1       1  Mrs. John Bradley (Florence Briggs Thayer) Cum...   \n",
      "2         1       3                              Miss. Laina Heikkinen   \n",
      "3         1       1        Mrs. Jacques Heath (Lily May Peel) Futrelle   \n",
      "4         0       3                            Mr. William Henry Allen   \n",
      "\n",
      "      Sex   Age  Siblings/Spouses Aboard  Parents/Children Aboard     Fare  \n",
      "0    male  22.0                        1                        0   7.2500  \n",
      "1  female  38.0                        1                        0  71.2833  \n",
      "2  female  26.0                        0                        0   7.9250  \n",
      "3  female  35.0                        1                        0  53.1000  \n",
      "4    male  35.0                        0                        0   8.0500  \n"
     ]
    }
   ],
   "source": [
    "url = 'https://web.stanford.edu/class/archive/cs/cs109/cs109.1166/stuff/titanic.csv'\n",
    "df = pd.read_csv(url)\n",
    "print(df.head())"
   ]
  },
  {
   "cell_type": "markdown",
   "metadata": {},
   "source": [
    "El conjunto de datos de Titanic que se utiliza en este ejemplo contiene información sobre los pasajeros del famoso barco Titanic que se hundió en su viaje inaugural en 1912. Los datos fueron recopilados por el Dr. Thomas Nicholls y publicados originalmente en 1999.\n",
    "El conjunto de datos contiene información sobre 891 pasajeros, incluyendo su edad, sexo, clase de billete, tarifa, número de hermanos o cónyuges a bordo, número de padres o hijos a bordo, número de identificación del pasajero, si sobrevivió o no, entre otros.\n",
    "Este conjunto de datos se ha utilizado ampliamente en la comunidad de ciencia de datos para demostrar técnicas de limpieza, manipulación y análisis de datos, y también se ha utilizado para entrenar modelos de aprendizaje automático para predecir la supervivencia de los pasajeros del Titanic."
   ]
  },
  {
   "cell_type": "markdown",
   "metadata": {},
   "source": [
    "## Procesamiento de los datos"
   ]
  },
  {
   "cell_type": "code",
   "execution_count": 3,
   "metadata": {
    "tags": []
   },
   "outputs": [
    {
     "name": "stdout",
     "output_type": "stream",
     "text": [
      "Index(['Survived', 'Pclass', 'Name', 'Sex', 'Age', 'Siblings/Spouses Aboard',\n",
      "       'Parents/Children Aboard', 'Fare'],\n",
      "      dtype='object')\n"
     ]
    }
   ],
   "source": [
    "# Seleccionar columnas específicas\n",
    "print(df.columns)"
   ]
  },
  {
   "cell_type": "code",
   "execution_count": 4,
   "metadata": {
    "tags": []
   },
   "outputs": [
    {
     "name": "stdout",
     "output_type": "stream",
     "text": [
      "   Survived     Sex   Age\n",
      "0         0    male  22.0\n",
      "1         1  female  38.0\n",
      "2         1  female  26.0\n",
      "3         1  female  35.0\n",
      "4         0    male  35.0\n"
     ]
    }
   ],
   "source": [
    "df_subset = df[['Survived', 'Sex', 'Age']]\n",
    "print(df_subset.head())\n"
   ]
  },
  {
   "cell_type": "code",
   "execution_count": 5,
   "metadata": {
    "tags": []
   },
   "outputs": [
    {
     "name": "stdout",
     "output_type": "stream",
     "text": [
      "   Survived  Pclass                           Name   Sex   Age  \\\n",
      "0         0       3         Mr. Owen Harris Braund  male  22.0   \n",
      "4         0       3        Mr. William Henry Allen  male  35.0   \n",
      "5         0       3                Mr. James Moran  male  27.0   \n",
      "6         0       1         Mr. Timothy J McCarthy  male  54.0   \n",
      "7         0       3  Master. Gosta Leonard Palsson  male   2.0   \n",
      "\n",
      "   Siblings/Spouses Aboard  Parents/Children Aboard     Fare  \n",
      "0                        1                        0   7.2500  \n",
      "4                        0                        0   8.0500  \n",
      "5                        0                        0   8.4583  \n",
      "6                        0                        0  51.8625  \n",
      "7                        3                        1  21.0750  \n"
     ]
    }
   ],
   "source": [
    "# Filtrar datos\n",
    "df_male = df[df['Sex'] == 'male']\n",
    "print(df_male.head())"
   ]
  },
  {
   "cell_type": "code",
   "execution_count": 6,
   "metadata": {
    "tags": []
   },
   "outputs": [
    {
     "name": "stdout",
     "output_type": "stream",
     "text": [
      "   Survived  Pclass                                               Name  \\\n",
      "0         0       3                             Mr. Owen Harris Braund   \n",
      "1         1       1  Mrs. John Bradley (Florence Briggs Thayer) Cum...   \n",
      "2         1       3                              Miss. Laina Heikkinen   \n",
      "3         1       1        Mrs. Jacques Heath (Lily May Peel) Futrelle   \n",
      "4         0       3                            Mr. William Henry Allen   \n",
      "\n",
      "      Sex   Age  Siblings/Spouses Aboard  Parents/Children Aboard     Fare  \\\n",
      "0    male  22.0                        1                        0   7.2500   \n",
      "1  female  38.0                        1                        0  71.2833   \n",
      "2  female  26.0                        0                        0   7.9250   \n",
      "3  female  35.0                        1                        0  53.1000   \n",
      "4    male  35.0                        0                        0   8.0500   \n",
      "\n",
      "   FamilySize  \n",
      "0           5  \n",
      "1           3  \n",
      "2           4  \n",
      "3           3  \n",
      "4           4  \n"
     ]
    }
   ],
   "source": [
    "# Crear una nueva columna\n",
    "df['FamilySize'] = df['Siblings/Spouses Aboard'] + df['Pclass'] + 1\n",
    "print(df.head())"
   ]
  },
  {
   "cell_type": "markdown",
   "metadata": {},
   "source": [
    "## Impotancia de la Programación "
   ]
  },
  {
   "cell_type": "markdown",
   "metadata": {},
   "source": [
    "![programar-inteligencia-artificial](https://enzyme.biz/hs-fs/hubfs/programar-inteligencia-artificial-4-pasos-python.jpg?width=793&name=programar-inteligencia-artificial-4-pasos-python.jpg)"
   ]
  },
  {
   "cell_type": "markdown",
   "metadata": {},
   "source": [
    "Sin duda uno de los elementos más importantes de la inteligencia artificial es fortalecer las compentencia en programación y sobretodo en un lenguaje como python, porque python te permite interactuar con muchas herramientas necesarias en la construcción, pruebas y despliegue de modelos."
   ]
  },
  {
   "cell_type": "markdown",
   "metadata": {},
   "source": [
    "## Gráficos"
   ]
  },
  {
   "cell_type": "code",
   "execution_count": 7,
   "metadata": {
    "tags": []
   },
   "outputs": [
    {
     "data": {
      "image/png": "[encoded data removed]",
      "text/plain": [
       "<Figure size 432x288 with 1 Axes>"
      ]
     },
     "metadata": {
      "needs_background": "light"
     },
     "output_type": "display_data"
    }
   ],
   "source": [
    "import matplotlib.pyplot as plt \n",
    "# Contar el número de pasajeros masculinos y femeninos \n",
    "gender_counts = df['Sex'].value_counts() \n",
    "\n",
    "# Crear un gráfico de barras \n",
    "plt.bar(gender_counts.index, gender_counts.values) \n",
    "\n",
    "# Agregar etiquetas y título \n",
    "plt.xlabel('Sexo') \n",
    "plt.ylabel('Número de Pasajeros') \n",
    "plt.title('Número de pasajeros masculinos y femeninos en el Titanic') \n",
    "\n",
    "# Mostrar el gráfico \n",
    "plt.show()"
   ]
  },
  {
   "cell_type": "markdown",
   "metadata": {},
   "source": [
    "El gráfico de barras que se generó   representa el número de pasajeros masculinos y femeninos en el conjunto de datos del Titanic. En el eje x, se encuentran las dos categorías: \"male\" y \"female\", que representan los pasajeros hombres y mujeres, respectivamente. En el eje y, se encuentra el número de pasajeros correspondiente a cada categoría.\n",
    "El gráfico de barras es una forma efectiva de visualizar la distribución de una variable categórica (en este caso, el género) en un conjunto de datos. En este gráfico en particular, podemos observar que hay más pasajeros hombres que mujeres en el conjunto de datos del Titanic. Esto coincide con lo que sabemos de la historia del Titanic, donde había una mayor proporción de hombres a bordo del barco que de mujeres.\n",
    "El gráfico también tiene un título descriptivo y etiquetas claras para los ejes x e y, lo que facilita la interpretación de la información presentada en él"
   ]
  },
  {
   "cell_type": "markdown",
   "metadata": {},
   "source": [
    "## Medidas de Tendencia Central- Análisis Descriptivo"
   ]
  },
  {
   "cell_type": "code",
   "execution_count": 8,
   "metadata": {},
   "outputs": [
    {
     "name": "stdout",
     "output_type": "stream",
     "text": [
      "La media de edad de los pasajeros es:  29.471443066516347\n",
      "La desviación estándar de la edad de los pasajeros es:  14.113945671023181\n",
      "La varianza de la edad de los pasajeros es:  199.203462404594\n"
     ]
    }
   ],
   "source": [
    "import numpy as np\n",
    "\n",
    "# Cálculo de la media de la edad de los pasajeros\n",
    "mean_age = np.mean(df['Age'])\n",
    "print(\"La media de edad de los pasajeros es: \", mean_age)\n",
    "\n",
    "# Cálculo de la desviación estándar de la edad de los pasajeros\n",
    "std_age = np.std(df['Age'])\n",
    "print(\"La desviación estándar de la edad de los pasajeros es: \", std_age)\n",
    "\n",
    "# Cálculo de la varianza de la edad de los pasajeros\n",
    "var_age = np.var(df['Age'])\n",
    "print(\"La varianza de la edad de los pasajeros es: \", var_age)\n"
   ]
  },
  {
   "cell_type": "markdown",
   "metadata": {},
   "source": [
    "### Interpretación de las medidas de tendencia central obtenidas\n",
    "La media es una medida de tendencia central e intenta ser un representante de los datos y se obtiene como una ponderación de la suma de los valores. En este caso el valor de 29 años indica que la expectativa de edad de los paajeros estaria alrededor de 29.4 años. ¿Qué tan grande es ese alrededor?\n",
    "\n",
    "La desviación *estadar* o típica mide la variabilidad de los valores, en este caso de las edades. Una desviación de 14 años aproximadamente, nos indica que podriamos encontrar pasajeros con edades de hasta 57.6 años ( la media más dos veces la desviación *standard*) y niños muy pequeños ( la media menos dos veces la desviación *standard*).\n",
    "\n",
    "La Varianza igual que la desviación *standard*, mide la dispersión de los datos pero al ser una medida cuadrática no tiene mucho sentido interpretarla, lo cual no le resta importancia para el análisis estadístico.\n",
    "\n",
    "Para mayor información consultar el siguiente link:"
   ]
  },
  {
   "cell_type": "markdown",
   "metadata": {},
   "source": [
    "[Medias de Tendencia Central](https://statistics.laerd.com/statistical-guides/measures-central-tendency-mean-mode-median.php)"
   ]
  },
  {
   "cell_type": "markdown",
   "metadata": {},
   "source": [
    "## Importancia de Los Notebooks y las librerias de Python"
   ]
  },
  {
   "cell_type": "markdown",
   "metadata": {},
   "source": [
    "Considero importante el uso de las librerias porque sin duda el trabajo de progrmación seria muy arduo y casi que cerrado para muchas personas que pueden ser programadores pero no tienen el nivel que se requeriria para construir la cantidad de funciones contenidas en el universo, nada despreciable de librerias con las que se cuenta hoy en día. No me imagino construyendo funciones para temas por ejemplo de Control de calidad, Series de tiempo, Diseño de experimentos, para todos los temas de modelamiento y en general todos las diferentes ramas de la ciencia de datos e inteligencia artificail y particulkarmente la complejidad del aprendizaje profundo, sin incluir gran variedad de disciplinas que se cubren con estas librerias, por citar solo una: Optimización Lineal y no lineal (ej. libreria **PuLP**).\n",
    "\n",
    "Y el tema de los notebook facilita sin duda la combinación de código y texto, pero no es solo esta posibilidad la que la hace atractiva para los cientificos de datos. Temas como la organización, interactividad, visualización y estética sin duda facilita enormemente el traba del cientifico de datos.\n",
    "\n",
    "Con el apoyo de **chat gpt**, tengo los siguiente resultados: \"encuentro que Jupyter Notebook y las bibliotecas de Python son herramientas esenciales para cualquier científico de datos debido a su versatilidad y poder para el análisis y procesamiento de datos. Aquí hay algunas razones por las que es importante para un científico de datos aprender Jupyter Notebook y las bibliotecas de Python:\n",
    "\n",
    "1. Análisis interactivo: Jupyter Notebook permite a los científicos de datos realizar análisis de datos de forma interactiva, lo que significa que pueden escribir, ejecutar y visualizar código Python en tiempo real. Esto facilita la exploración y comprensión de los datos, y permite iterar rápidamente en el proceso de análisis.\n",
    "\n",
    "2. Reproducibilidad: Jupyter Notebook permite a los científicos de datos crear notebooks con código, resultados y visualizaciones, lo que facilita la reproducción de los análisis en el futuro o por otros miembros del equipo. Esto es especialmente importante en la ciencia de datos, donde la reproducibilidad es fundamental para garantizar la validez y confiabilidad de los resultados.\n",
    "\n",
    "3. Bibliotecas de Python: Python es uno de los lenguajes de programación más utilizados en la ciencia de datos debido a su amplia gama de bibliotecas especializadas. Por ejemplo, bibliotecas como NumPy, Pandas, Matplotlib y Scikit-Learn ofrecen herramientas poderosas para el manejo y procesamiento de datos, visualización de datos y modelado de machine learning, lo que facilita el trabajo del científico de datos.\n",
    "\n",
    "4. Comunidad activa: Jupyter Notebook y Python tienen una gran comunidad de usuarios activa que contribuye con bibliotecas, tutoriales y recursos en línea. Esto hace que sea más fácil para los científicos de datos encontrar ayuda y recursos adicionales para aprender y mejorar sus habilidades.\n",
    "\n",
    "5. Flexibilidad: Jupyter Notebook y Python ofrecen una gran flexibilidad para adaptarse a las necesidades específicas de un científico de datos. Pueden ser utilizados en una amplia variedad de tareas, desde análisis de datos exploratorios hasta desarrollo de modelos de machine learning, lo que permite a los científicos de datos aplicarlos en diferentes escenarios y proyectos.\n",
    "\n",
    "En resumen, aprender Jupyter Notebook y las bibliotecas de Python es importante para un científico de datos porque proporcionan herramientas poderosas y flexibles para el análisis y procesamiento de datos, facilitan la reproducibilidad de los resultados, y forman parte de una comunidad activa de usuarios. Dominar estas herramientas puede mejorar la productividad y la efectividad en el trabajo de un científico de datos.\""
   ]
  },
  {
   "cell_type": "code",
   "execution_count": null,
   "metadata": {},
   "outputs": [],
   "source": []
  }
 ],
 "metadata": {
  "kernelspec": {
   "display_name": "Python 3",
   "language": "python",
   "name": "python3"
  },
  "language_info": {
   "codemirror_mode": {
    "name": "ipython",
    "version": 3
   },
   "file_extension": ".py",
   "mimetype": "text/x-python",
   "name": "python",
   "nbconvert_exporter": "python",
   "pygments_lexer": "ipython3",
   "version": "3.8.10"
  },
  "toc-showtags": false
 },
 "nbformat": 4,
 "nbformat_minor": 5
}
