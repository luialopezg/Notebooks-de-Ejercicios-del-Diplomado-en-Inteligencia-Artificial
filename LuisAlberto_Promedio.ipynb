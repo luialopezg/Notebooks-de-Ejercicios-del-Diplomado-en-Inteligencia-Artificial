{
 "cells": [
  {
   "cell_type": "markdown",
   "id": "bb125bd4-865f-4f10-9a46-a24b026c24f3",
   "metadata": {},
   "source": [
    "![Universidad Nacional](https://egresados.unal.edu.co/images/recursos/guiaVisual/_Comunicaciones-09.jpg)"
   ]
  },
  {
   "cell_type": "markdown",
   "id": "66d4d5c3-d373-4acd-b97a-85ccc7c416ec",
   "metadata": {},
   "source": [
    "<figure>\n",
    "<img src=\"https://upload.wikimedia.org/wikipedia/commons/thumb/a/a2/Escudo_de_la_Universidad_Nacional_de_Colombia_%282016%29.svg/800px-Escudo_de_la_Universidad_Nacional_de_Colombia_%282016%29.svg.png\"  width=\"80\" height=\"80\" align=\"left\"/> \n",
    "</figure>\n",
    "\n",
    "# <span style=\"color:blue\"><left> Diplomado de Inteligencia Artificial y Aprendizaje Profundo</left></span>"
   ]
  },
  {
   "cell_type": "markdown",
   "id": "a279c315-6d23-401d-9c10-4919f483e288",
   "metadata": {},
   "source": [
    "# <span style=\"color:green\"><center>Introducción a la Programación - Práctica</center><span>\n",
    "\n",
    "# Parte 1\n",
    "\n",
    "Tarea: Crear un programa que calcule el promedio de tres números ingresados por el usuario.\n",
    "\n",
    "Pasos:\n",
    "1. Crea un nuevo cuaderno de JupyterLab. Guárdalo con un nombre descriptivo, como \"promedio.py\".\n",
    "2. Crea una variable para cada uno de los tres números que el usuario va a ingresar. Puedes nombrarlas como \"num1\", \"num2\" y \"num3\".\n",
    "3. Usa la función \"input\" para pedirle al usuario que ingrese el valor de cada variable. Puedes mostrar un mensaje indicando qué valor debe ingresar el usuario para cada variable.\n",
    "4. Usa la función \"float\" para convertir los valores ingresados por el usuario a números decimales.\n",
    "5. Calcula el promedio de los tres números usando la fórmula (num1 + num2 + num3) / 3.\n",
    "6. Usa la función \"print\" para mostrar el resultado del promedio en la pantalla. Puedes agregar un mensaje descriptivo para que el usuario sepa qué se está mostrando.\n",
    "7. Guarda el archivo y ejecútalo para verificar que el programa funciona correctamente.\n",
    "8. Si hay algún error en el programa, vuelve al código y revisa cada línea para encontrar y corregir el error.\n",
    "9. Una vez que el programa funciona correctamente, intenta modificarlo para calcular el promedio de más números, o para mostrar el resultado con un número determinado de decimales."
   ]
  },
  {
   "cell_type": "markdown",
   "id": "74bf7e15-3bd6-4ec9-aabd-013df708ad83",
   "metadata": {},
   "source": [
    "##   <span style=\"color:blue\">Presentado por:</span>"
   ]
  },
  {
   "cell_type": "markdown",
   "id": "8ff1852c-7b9d-47e5-9a0f-14e95f2a6261",
   "metadata": {},
   "source": [
    "* Luis Alberto López"
   ]
  },
  {
   "cell_type": "markdown",
   "id": "cd7e2427-0477-4e3c-9ccd-9326e9c258ef",
   "metadata": {},
   "source": [
    "Para esta parte del taller he realizado tres versiones teniendo en cuenta algunos posibles valores no numéricos"
   ]
  },
  {
   "cell_type": "markdown",
   "id": "22b786b4-2a4b-41c1-a923-ac05dc81e249",
   "metadata": {},
   "source": [
    "### Versión 1"
   ]
  },
  {
   "cell_type": "code",
   "execution_count": 2,
   "id": "6b0aff65-1098-452f-a77e-02239447c8a4",
   "metadata": {
    "tags": []
   },
   "outputs": [
    {
     "name": "stdin",
     "output_type": "stream",
     "text": [
      "Enter the first number: 12\n",
      "Enter the second number: 63\n",
      "Enter the third number 84\n"
     ]
    },
    {
     "name": "stdout",
     "output_type": "stream",
     "text": [
      "53.0\n"
     ]
    }
   ],
   "source": [
    "input1 = input('Enter the first number:')\n",
    "try:\n",
    "    num1 = float(input1)\n",
    "except: \n",
    "    print('Please enter a number')\n",
    "input2 = input('Enter the second number:')\n",
    "try:\n",
    "    num2 = float(input2)\n",
    "except: \n",
    "    print('Please enter a number')\n",
    "input3 = input('Enter the third number')\n",
    "try:\n",
    "    num3 = float(input3)\n",
    "except:\n",
    "    print('Please enter a number')\n",
    "suma = num1 + num2 + num3\n",
    "promedio = suma/3\n",
    "print(promedio)\n"
   ]
  },
  {
   "cell_type": "markdown",
   "id": "a17c7f21-2f67-4742-87be-7a4c611b67de",
   "metadata": {},
   "source": [
    "### Versión 2"
   ]
  },
  {
   "cell_type": "code",
   "execution_count": 3,
   "id": "35b23bec-549d-46f9-8477-00916bdd29ca",
   "metadata": {
    "tags": []
   },
   "outputs": [
    {
     "name": "stdin",
     "output_type": "stream",
     "text": [
      "Enter the first number: q\n"
     ]
    },
    {
     "name": "stdout",
     "output_type": "stream",
     "text": [
      "Please enter a number\n"
     ]
    },
    {
     "name": "stdin",
     "output_type": "stream",
     "text": [
      "Enter the second number: 62\n",
      "Enter the third number 36\n"
     ]
    },
    {
     "name": "stdout",
     "output_type": "stream",
     "text": [
      "Usted ingresó los valores: q 62 36\n",
      "El promedio de los valores ingresados es: 49.0\n"
     ]
    }
   ],
   "source": [
    "input1 = input('Enter the first number:')\n",
    "n = 0\n",
    "try:\n",
    "    num1 = float(input1)\n",
    "    n += 1\n",
    "except: \n",
    "    print('Please enter a number')\n",
    "    num1 = 0\n",
    "input2 = input('Enter the second number:')\n",
    "\n",
    "try:\n",
    "    num2 = float(input2)\n",
    "    n += 1\n",
    "except: \n",
    "    print('Please enter a number')\n",
    "    num2 = 0\n",
    "input3 = input('Enter the third number')\n",
    "try:\n",
    "    num3 = float(input3)\n",
    "    n += 1\n",
    "except:\n",
    "    print('Please enter a number')\n",
    "    num3 = 0\n",
    "suma = num1 + num2 + num3\n",
    "promedio = suma/n \n",
    "print(\"Usted ingresó los valores:\", input1, input2,input3)\n",
    "print(\"El promedio de los valores ingresados es:\",promedio)"
   ]
  },
  {
   "cell_type": "code",
   "execution_count": 4,
   "id": "ab83e61f-227a-463a-9ace-39010b0ec7b3",
   "metadata": {},
   "outputs": [],
   "source": [
    "### Versión 3"
   ]
  },
  {
   "cell_type": "code",
   "execution_count": 5,
   "id": "a2e44b42-64c1-447e-bccf-4f18344a87ac",
   "metadata": {
    "tags": []
   },
   "outputs": [
    {
     "name": "stdin",
     "output_type": "stream",
     "text": [
      "Ingresa el primer número:  12\n",
      "Ingresa el segundo número:  100\n",
      "Ingresa el tercer número:  p\n"
     ]
    },
    {
     "name": "stdout",
     "output_type": "stream",
     "text": [
      "¡Error! Debes ingresar solo números.\n"
     ]
    }
   ],
   "source": [
    "try:\n",
    "    # Recibir tres números del usuario\n",
    "    num1 = float(input(\"Ingresa el primer número: \"))\n",
    "    num2 = float(input(\"Ingresa el segundo número: \"))\n",
    "    num3 = float(input(\"Ingresa el tercer número: \"))\n",
    "except ValueError:\n",
    "    print(\"¡Error! Debes ingresar solo números.\")\n",
    "else:\n",
    "    # Calcular el promedio\n",
    "    promedio = (num1 + num2 + num3) / 3\n",
    "    print(\"El promedio es:\", promedio)\n"
   ]
  },
  {
   "cell_type": "markdown",
   "id": "5b89aba4-9300-4206-9337-ef6e415180a5",
   "metadata": {},
   "source": [
    "### Versión 4"
   ]
  },
  {
   "cell_type": "code",
   "execution_count": 6,
   "id": "db6365b6-7361-4142-a670-75b3bdb2376a",
   "metadata": {
    "tags": []
   },
   "outputs": [],
   "source": [
    "def promedio3():\n",
    "    try:\n",
    "    # Recibir tres números del usuario\n",
    "        num1 = float(input(\"Ingresa el primer número: \"))\n",
    "        num2 = float(input(\"Ingresa el segundo número: \"))\n",
    "        num3 = float(input(\"Ingresa el tercer número: \"))\n",
    "    except ValueError:\n",
    "        print(\"¡Error! Debes ingresar solo números.\")\n",
    "    else:\n",
    "    # Calcular el promedio\n",
    "        promedio = (num1 + num2 + num3) / 3\n",
    "        print(\"El promedio es:\", promedio)"
   ]
  },
  {
   "cell_type": "code",
   "execution_count": 7,
   "id": "db7fcf10-80c3-4442-b107-ab1c78a7752c",
   "metadata": {
    "tags": []
   },
   "outputs": [
    {
     "name": "stdin",
     "output_type": "stream",
     "text": [
      "Ingresa el primer número:  11\n",
      "Ingresa el segundo número:  88\n",
      "Ingresa el tercer número:  105\n"
     ]
    },
    {
     "name": "stdout",
     "output_type": "stream",
     "text": [
      "El promedio es: 68.0\n"
     ]
    }
   ],
   "source": [
    "promedio3()"
   ]
  },
  {
   "cell_type": "markdown",
   "id": "30aa0ea0-3096-44aa-8dea-e03f7a79ec92",
   "metadata": {},
   "source": [
    "# Parte 2\n",
    "\n",
    "\n",
    "Pasos:\n",
    "\n",
    "1. Modifica el código anterior para que en lugar de pedir al usuario que ingrese tres números, pida que ingrese una lista de números separados por comas. Puedes usar la función \"input\" para leer la entrada del usuario y la función \"split\" para separar los números en la lista.\n",
    "2. Calcula el promedio de la lista de números utilizando un bucle \"for\" para iterar sobre los elementos de la lista y sumarlos. Luego, divide la suma entre la longitud de la lista para obtener el promedio.\n",
    "3. Crea una nueva lista llamada \"mayores_al_promedio\" que contenga los números de la lista original que están por encima del promedio. Para hacer esto, utiliza un bucle \"for\" para iterar sobre los elementos de la lista y un condicional \"if\" para verificar si el número es mayor que el promedio.\n",
    "4. Muestra el resultado en la pantalla con un mensaje descriptivo. Puedes usar la función \"join\" para concatenar los números en la lista separados por comas.\n",
    "\n"
   ]
  },
  {
   "cell_type": "code",
   "execution_count": 10,
   "id": "c3e6b921-6dcb-4c5b-b934-29af1d66f3ed",
   "metadata": {},
   "outputs": [
    {
     "name": "stdin",
     "output_type": "stream",
     "text": [
      "Ingrese una lista de números separados por espacio: 100 1000 101 103 105 101 100 500\n"
     ]
    },
    {
     "name": "stdout",
     "output_type": "stream",
     "text": [
      "El promedio de la lista de valores [100.0, 1000.0, 101.0, 103.0, 105.0, 101.0, 100.0, 500.0] corresponde a 263.75\n",
      "Los valores de la lista [100.0, 1000.0, 101.0, 103.0, 105.0, 101.0, 100.0, 500.0], ingresados por usted y adicionalmente son mayores al promedio corresponden a: [1000.0, 500.0]\n"
     ]
    }
   ],
   "source": [
    "# Solicitar al usuario que ingrese una lista de números separados por espacios\n",
    "numeros = input('Ingrese una lista de números separados por espacio:')\n",
    "\n",
    "# Convertir la entrada del usuario en una lista de números\n",
    "numeros = numeros.split()\n",
    "\n",
    "# Convertir los elementos de la lista en números enteros o flotantes\n",
    "numeros = [float(numero) for numero in numeros]\n",
    "\n",
    "# Calcular el promedio de los números\n",
    "promedio = sum(numeros)/len(numeros)\n",
    "\n",
    "# Se definen los numeros mayores al promedio\n",
    "mayores_al_promedio = list()\n",
    "for j in numeros:\n",
    "    if j > promedio:\n",
    "        mayores_al_promedio.append(j)\n",
    "\n",
    "print(f\"El promedio de la lista de valores {numeros} corresponde a {promedio}\")\n",
    "print(f\"Los valores de la lista {numeros}, ingresados por usted y adicionalmente son mayores al promedio corresponden a: {mayores_al_promedio}\")               \n",
    "               "
   ]
  },
  {
   "cell_type": "code",
   "execution_count": null,
   "id": "aa2f3cc5-f6e4-417b-9711-9a7586299013",
   "metadata": {},
   "outputs": [],
   "source": []
  }
 ],
 "metadata": {
  "kernelspec": {
   "display_name": "Python 3 (ipykernel)",
   "language": "python",
   "name": "python3"
  },
  "language_info": {
   "codemirror_mode": {
    "name": "ipython",
    "version": 3
   },
   "file_extension": ".py",
   "mimetype": "text/x-python",
   "name": "python",
   "nbconvert_exporter": "python",
   "pygments_lexer": "ipython3",
   "version": "3.11.3"
  }
 },
 "nbformat": 4,
 "nbformat_minor": 5
}
